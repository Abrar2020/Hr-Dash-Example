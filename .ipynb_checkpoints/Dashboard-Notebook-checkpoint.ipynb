{
 "cells": [
  {
   "cell_type": "markdown",
   "metadata": {},
   "source": [
    "# Agenda\n",
    "**A brief guide on how to build your own dashboard with plotly.py and dash**\n",
    "   1. Introduction\n",
    "   2. Installation\n",
    "   3. Plan before you start building the dashboard\n",
    "   4. HTML and CSS basics with dash\n",
    "   5. Import and use data\n",
    "   6. Bootstraping with dash\n",
    "   7. Interactivity with Dash magic \n",
    "   8. Useful NLP plots and other useful graphs\n",
    "\n",
    "# Introduction \n",
    "\n",
    "## About Dash and Plotly \n",
    "\n",
    "* Plotly is a powerful open-source visulization tool that was used for both scientest, engineers and anaylist. supporting python, R, javascript develpers.\n",
    "* Before dash was introduced, Plotly users have been requesting more flexibility and more control over graphs and the widgets. \n",
    "* Dash is built on top of Plotly.js, Flask and React.js, this means that you can build an interactive web-page with plotly graphes with simple python scripts. \n",
    "\n",
    "## Assumptions and Expectations\n",
    "\n",
    "### Assumptions: \n",
    "\n",
    "1. Team has at least one member that have expereience with python\n",
    "\n",
    "### Expectations: \n",
    "\n",
    "1. Understanding for the basic elements of Dash, which are HTML and CSS \n",
    "2. Understanding for plotly graphs \n",
    "3. Participant can use information deilvered in this workshop and implement there own sulotion based on the basics given in this workshop.\n",
    "\n",
    "\n",
    "**Note: you can reference this notebook through this github repo** "
   ]
  },
  {
   "cell_type": "markdown",
   "metadata": {},
   "source": [
    "# installation\n",
    "all you need to do is to install dash and plotly dependencies through pip"
   ]
  },
  {
   "cell_type": "code",
   "execution_count": 1,
   "metadata": {
    "scrolled": true
   },
   "outputs": [
    {
     "name": "stdout",
     "output_type": "stream",
     "text": [
      "Requirement already satisfied: dash in /usr/local/lib/python3.7/site-packages (1.13.3)\n",
      "Requirement already satisfied: plotly in /usr/local/lib/python3.7/site-packages (4.8.1)\n",
      "Requirement already satisfied: dash-html-components==1.0.3 in /usr/local/lib/python3.7/site-packages (from dash) (1.0.3)\n",
      "Requirement already satisfied: dash-core-components==1.10.1 in /usr/local/lib/python3.7/site-packages (from dash) (1.10.1)\n",
      "Requirement already satisfied: Flask>=1.0.2 in /usr/local/lib/python3.7/site-packages (from dash) (1.1.2)\n",
      "Requirement already satisfied: flask-compress in /usr/local/lib/python3.7/site-packages (from dash) (1.5.0)\n",
      "Requirement already satisfied: dash-renderer==1.5.0 in /usr/local/lib/python3.7/site-packages (from dash) (1.5.0)\n",
      "Requirement already satisfied: dash-table==4.8.1 in /usr/local/lib/python3.7/site-packages (from dash) (4.8.1)\n",
      "Requirement already satisfied: future in /usr/local/lib/python3.7/site-packages (from dash) (0.18.2)\n",
      "Requirement already satisfied: retrying>=1.3.3 in /usr/local/lib/python3.7/site-packages (from plotly) (1.3.3)\n",
      "Requirement already satisfied: six in /usr/local/lib/python3.7/site-packages (from plotly) (1.15.0)\n",
      "Requirement already satisfied: Werkzeug>=0.15 in /usr/local/lib/python3.7/site-packages (from Flask>=1.0.2->dash) (1.0.1)\n",
      "Requirement already satisfied: itsdangerous>=0.24 in /usr/local/lib/python3.7/site-packages (from Flask>=1.0.2->dash) (1.1.0)\n",
      "Requirement already satisfied: click>=5.1 in /usr/local/lib/python3.7/site-packages (from Flask>=1.0.2->dash) (7.1.2)\n",
      "Requirement already satisfied: Jinja2>=2.10.1 in /usr/local/lib/python3.7/site-packages (from Flask>=1.0.2->dash) (2.10.1)\n",
      "Requirement already satisfied: brotli in /usr/local/lib/python3.7/site-packages (from flask-compress->dash) (1.0.7)\n",
      "Requirement already satisfied: MarkupSafe>=0.23 in /usr/local/lib/python3.7/site-packages (from Jinja2>=2.10.1->Flask>=1.0.2->dash) (1.1.1)\n",
      "Requirement already satisfied: jupyter-dash in /usr/local/lib/python3.7/site-packages (0.2.1.post1)\n",
      "Requirement already satisfied: ansi2html in /usr/local/lib/python3.7/site-packages (from jupyter-dash) (1.5.2)\n",
      "Requirement already satisfied: ipykernel in /usr/local/lib/python3.7/site-packages (from jupyter-dash) (5.1.2)\n",
      "Requirement already satisfied: requests in /usr/local/lib/python3.7/site-packages (from jupyter-dash) (2.23.0)\n",
      "Requirement already satisfied: flask in /usr/local/lib/python3.7/site-packages (from jupyter-dash) (1.1.2)\n",
      "Requirement already satisfied: ipython in /usr/local/lib/python3.7/site-packages (from jupyter-dash) (7.7.0)\n",
      "Requirement already satisfied: dash in /usr/local/lib/python3.7/site-packages (from jupyter-dash) (1.13.3)\n",
      "Requirement already satisfied: retrying in /usr/local/lib/python3.7/site-packages (from jupyter-dash) (1.3.3)\n",
      "Requirement already satisfied: six in /usr/local/lib/python3.7/site-packages (from ansi2html->jupyter-dash) (1.15.0)\n",
      "Requirement already satisfied: jupyter-client in /usr/local/lib/python3.7/site-packages (from ipykernel->jupyter-dash) (5.3.1)\n",
      "Requirement already satisfied: tornado>=4.2 in /usr/local/lib/python3.7/site-packages (from ipykernel->jupyter-dash) (6.0.3)\n",
      "Requirement already satisfied: traitlets>=4.1.0 in /usr/local/lib/python3.7/site-packages (from ipykernel->jupyter-dash) (4.3.2)\n",
      "Requirement already satisfied: idna<3,>=2.5 in /usr/local/lib/python3.7/site-packages (from requests->jupyter-dash) (2.9)\n",
      "Requirement already satisfied: certifi>=2017.4.17 in /usr/local/lib/python3.7/site-packages (from requests->jupyter-dash) (2020.4.5.2)\n",
      "Requirement already satisfied: chardet<4,>=3.0.2 in /usr/local/lib/python3.7/site-packages (from requests->jupyter-dash) (3.0.4)\n",
      "Requirement already satisfied: urllib3!=1.25.0,!=1.25.1,<1.26,>=1.21.1 in /usr/local/lib/python3.7/site-packages (from requests->jupyter-dash) (1.25.9)\n",
      "Requirement already satisfied: click>=5.1 in /usr/local/lib/python3.7/site-packages (from flask->jupyter-dash) (7.1.2)\n",
      "Requirement already satisfied: itsdangerous>=0.24 in /usr/local/lib/python3.7/site-packages (from flask->jupyter-dash) (1.1.0)\n",
      "Requirement already satisfied: Werkzeug>=0.15 in /usr/local/lib/python3.7/site-packages (from flask->jupyter-dash) (1.0.1)\n",
      "Requirement already satisfied: Jinja2>=2.10.1 in /usr/local/lib/python3.7/site-packages (from flask->jupyter-dash) (2.10.1)\n",
      "Requirement already satisfied: appnope; sys_platform == \"darwin\" in /usr/local/lib/python3.7/site-packages (from ipython->jupyter-dash) (0.1.0)\n",
      "Requirement already satisfied: jedi>=0.10 in /usr/local/lib/python3.7/site-packages (from ipython->jupyter-dash) (0.15.1)\n",
      "Requirement already satisfied: backcall in /usr/local/lib/python3.7/site-packages (from ipython->jupyter-dash) (0.1.0)\n",
      "Requirement already satisfied: pygments in /usr/local/lib/python3.7/site-packages (from ipython->jupyter-dash) (2.4.2)\n",
      "Requirement already satisfied: pickleshare in /usr/local/lib/python3.7/site-packages (from ipython->jupyter-dash) (0.7.5)\n",
      "Requirement already satisfied: setuptools>=18.5 in /usr/local/lib/python3.7/site-packages (from ipython->jupyter-dash) (47.1.1)\n",
      "Requirement already satisfied: prompt-toolkit<2.1.0,>=2.0.0 in /usr/local/lib/python3.7/site-packages (from ipython->jupyter-dash) (2.0.9)\n",
      "Requirement already satisfied: decorator in /usr/local/lib/python3.7/site-packages (from ipython->jupyter-dash) (4.4.0)\n",
      "Requirement already satisfied: pexpect; sys_platform != \"win32\" in /usr/local/lib/python3.7/site-packages (from ipython->jupyter-dash) (4.7.0)\n",
      "Requirement already satisfied: dash-html-components==1.0.3 in /usr/local/lib/python3.7/site-packages (from dash->jupyter-dash) (1.0.3)\n",
      "Requirement already satisfied: dash-renderer==1.5.0 in /usr/local/lib/python3.7/site-packages (from dash->jupyter-dash) (1.5.0)\n",
      "Requirement already satisfied: dash-core-components==1.10.1 in /usr/local/lib/python3.7/site-packages (from dash->jupyter-dash) (1.10.1)\n",
      "Requirement already satisfied: plotly in /usr/local/lib/python3.7/site-packages (from dash->jupyter-dash) (4.8.1)\n",
      "Requirement already satisfied: flask-compress in /usr/local/lib/python3.7/site-packages (from dash->jupyter-dash) (1.5.0)\n",
      "Requirement already satisfied: future in /usr/local/lib/python3.7/site-packages (from dash->jupyter-dash) (0.18.2)\n",
      "Requirement already satisfied: dash-table==4.8.1 in /usr/local/lib/python3.7/site-packages (from dash->jupyter-dash) (4.8.1)\n",
      "Requirement already satisfied: python-dateutil>=2.1 in /usr/local/lib/python3.7/site-packages (from jupyter-client->ipykernel->jupyter-dash) (2.8.0)\n",
      "Requirement already satisfied: jupyter-core in /usr/local/lib/python3.7/site-packages (from jupyter-client->ipykernel->jupyter-dash) (4.5.0)\n",
      "Requirement already satisfied: pyzmq>=13 in /usr/local/lib/python3.7/site-packages (from jupyter-client->ipykernel->jupyter-dash) (18.1.0)\n",
      "Requirement already satisfied: ipython-genutils in /usr/local/lib/python3.7/site-packages (from traitlets>=4.1.0->ipykernel->jupyter-dash) (0.2.0)\n",
      "Requirement already satisfied: MarkupSafe>=0.23 in /usr/local/lib/python3.7/site-packages (from Jinja2>=2.10.1->flask->jupyter-dash) (1.1.1)\n",
      "Requirement already satisfied: parso>=0.5.0 in /usr/local/lib/python3.7/site-packages (from jedi>=0.10->ipython->jupyter-dash) (0.5.1)\n",
      "Requirement already satisfied: wcwidth in /usr/local/lib/python3.7/site-packages (from prompt-toolkit<2.1.0,>=2.0.0->ipython->jupyter-dash) (0.1.7)\n",
      "Requirement already satisfied: ptyprocess>=0.5 in /usr/local/lib/python3.7/site-packages (from pexpect; sys_platform != \"win32\"->ipython->jupyter-dash) (0.6.0)\n",
      "Requirement already satisfied: brotli in /usr/local/lib/python3.7/site-packages (from flask-compress->dash->jupyter-dash) (1.0.7)\n"
     ]
    }
   ],
   "source": [
    "#first install all required packages through pip or pip3 \n",
    "!pip3 install dash plotly \n",
    "!pip3 install jupyter-dash"
   ]
  },
  {
   "cell_type": "markdown",
   "metadata": {},
   "source": [
    "# Plan to build your dashboard\n",
    "\n",
    "Before building your dashboard it is a good practice to start thinking and building a skeleton for the dashboard to help you know where you can start and how will build the dashboard. You can use any tool to build the skeleton: sketching with pen and paper, wireframing tools, prototyping tools...etc you can use anything you are comfirtable with.  \n",
    "\n",
    "\n",
    "Generally to build the skeleton you need to think of the following: \n",
    "1. What are the filters that control the graphs \n",
    "    - Time frame filter\n",
    "    - General filters to the dataset such as gender, age...etc\n",
    "    - Fine tunning filters to update or re-train the model. \n",
    "2. What is the data source\n",
    "    - Upload Button \n",
    "    - End-point \n",
    "    ![rest-api]\n",
    "\n",
    "[rest-api]: ./assets/Rest-API1.png\n",
    "3. What are the graphs to be displayed in the dashboard\n",
    "    - Numbers \n",
    "    - General Statisitcs \n",
    "    - Staticst based on recommendation model or ranking model "
   ]
  },
  {
   "cell_type": "markdown",
   "metadata": {},
   "source": [
    "# Skeleton\n",
    "\n",
    "What we are gonna follow for this workshop is the following skeleton:\n",
    "![skeleton]\n",
    "\n",
    "[skeleton]: ./assets/Dashboard1.png"
   ]
  },
  {
   "cell_type": "markdown",
   "metadata": {},
   "source": [
    "# HTML and CSS basics with dash\n",
    "\n",
    "In web development every webpage has CSS and HTML tags, despite what framework you work with. \n",
    "Dash is mainly based on HTML and CSS.\n",
    "* HTML tags defines the skeleton or the document structure of a webpage\n",
    "* Every HTML tag has a corresponding element in dash library some html tags might not be found in html_components but in core_components these components are usually statuful meaning they are interctive. \n",
    "* CSS gives your webpage the styles.\n",
    "    Since styling can be quite complex every single page in a website should have its CSS styles and for consistency a front-end developer will use classes to unify the design of all these web pages. Since styling from scratch is quite complex and requires time and efforts.\n",
    "* Bootstrap is used to solve CSS problems and makes CSS easy and flexible. \n",
    "  \n",
    "1. examples HTML components - stateless\n",
    "   + Headers - H1:H6\n",
    "   + Paragraph - P \n",
    "   + images - Img\n",
    "   + blocks - Div \n",
    "  \n",
    "3. examples core components - stateless\n",
    "   + date picker - DatePickerRange\n",
    "   + inputs - Input\n",
    "   + dropdowns - Dropdown\n",
    "   + graphs  - Graph\n",
    "   + uploading files - Upload \n",
    "2. CSS \n",
    "3. Bootstrap"
   ]
  },
  {
   "cell_type": "markdown",
   "metadata": {},
   "source": [
    "## Hot Reloading\n",
    "\n",
    "* in jupyter you can activitate hot reloading by using \n",
    "* on other script editors it should be running by default, you only need to enbale it when running your server, as follows:\n",
    "`app.run_server(dev_tools_hot_reload = True)`\n",
    "\n",
    "**Note**: its recommended to use script editors such as: VSCode, Pycharm or Spider since its much flexible and practical compared to Jupyter which is more oriented towards experiments rather than app development.  "
   ]
  },
  {
   "cell_type": "code",
   "execution_count": 1,
   "metadata": {},
   "outputs": [],
   "source": [
    "# import all required libraries\n",
    "# dash_core_components, dash_html_components, dash_renderer\n",
    "# should be installed with dash if not you should install with pip or pip3\n",
    "from jupyter_dash import JupyterDash\n",
    "import dash\n",
    "import dash_core_components as dcc \n",
    "import dash_bootstrap_components as dbc\n",
    "import dash_html_components as html\n"
   ]
  },
  {
   "cell_type": "code",
   "execution_count": 28,
   "metadata": {},
   "outputs": [],
   "source": [
    "colors = {\n",
    "    'background': '#111111',\n",
    "    'font': '#4F4F4F',\n",
    "    'input': '#C8C8C8', \n",
    "    's-div': '#C8C8C8',\n",
    "    'm-div': '#F2F2F2'\n",
    "    \n",
    "}\n",
    "\n",
    "#init dash app\n",
    "#app = dash.Dash() if you are not experimenting with Jupyter do build your app\n",
    "app = JupyterDash(__name__)"
   ]
  },
  {
   "cell_type": "markdown",
   "metadata": {},
   "source": [
    "### Create a simple dash with only html and inine css "
   ]
  },
  {
   "cell_type": "code",
   "execution_count": 29,
   "metadata": {},
   "outputs": [],
   "source": [
    "# app.layout \n",
    "# defines the structure or the layout of your dashbaord\n",
    "app.layout = html.Div(children=[html.Img(src=app.get_asset_url(\"thakaa_logo.png\"), width=200),\n",
    "                                html.H1(\"HR Dashboard\"),\n",
    "                                html.Div([html.Label(\"Select Job Describtion\", style = {'color': colors['font']}),\n",
    "                                dcc.Input(id=\"jd-input\",value=\"\", placeholder=\"Add Job Describtion\",\n",
    "                                         className= \"input-style\")]),\n",
    "                                html.Div(style = {'backgroundColor': colors['m-div'],\n",
    "                                                  'borderRadius':'20px'}, \n",
    "                                         children=[\n",
    "                                             html.H2(\"Another Div that contains few other elements\",\n",
    "                                                           style = {'color': colors['font']}),       \n",
    "                                             dcc.Graph(\n",
    "                                                    id='test-graph',\n",
    "                                                    figure={\n",
    "                                                        'data': [\n",
    "                                                            {'x': [1, 2, 3,4], 'y': [1, 2, 4,5], 'type': 'bar', 'name': 'nClicks'},\n",
    "                                                            {'x': [1, 2, 3,4], 'y': [1, 1, 3,7], 'type': 'bar', 'name': 'nBuy'},\n",
    "                                                        ],\n",
    "                                                        'layout': {\n",
    "                                                            'plot_bgcolor': colors['s-div'],\n",
    "                                                            'paper_bgcolor': colors['m-div'],\n",
    "                                                            'font': {\n",
    "                                                                'color': colors['font'],\n",
    "                                                                'borderRadius': '20px'\n",
    "                                                            }\n",
    "                                                        }\n",
    "                                                    }\n",
    "                                                )])])\n"
   ]
  },
  {
   "cell_type": "code",
   "execution_count": 30,
   "metadata": {},
   "outputs": [
    {
     "data": {
      "text/html": [
       "\n",
       "        <iframe\n",
       "            width=\"800\"\n",
       "            height=\"650\"\n",
       "            src=\"http://127.0.0.1:8050/\"\n",
       "            frameborder=\"0\"\n",
       "            allowfullscreen\n",
       "        ></iframe>\n",
       "        "
      ],
      "text/plain": [
       "<IPython.lib.display.IFrame at 0x11371d990>"
      ]
     },
     "metadata": {},
     "output_type": "display_data"
    }
   ],
   "source": [
    "#Run app on server\n",
    "if __name__ == '__main__': \n",
    "    app.run_server(mode='inline')"
   ]
  },
  {
   "cell_type": "markdown",
   "metadata": {},
   "source": [
    "### Use CSS classes for simplicity and flexibility \n",
    "\n",
    "in this step feel free to use ready template or **external syle sheets** you can simply load the style sheet using the following:\n",
    "\n",
    "``` \n",
    "external_stylesheets = ['https://codepen.io/chriddyp/pen/bWLwgP.css']\n",
    "app = dash.Dash(__name__, external_stylesheets=external_stylesheets)\n",
    "```\n",
    "\n",
    "\n",
    "however you can create your own classes and replace them in assets directory, once your app is complied it will look for those assets and loads them automatically  "
   ]
  },
  {
   "cell_type": "code",
   "execution_count": 31,
   "metadata": {},
   "outputs": [],
   "source": [
    "css_sheet = \"./assets/style.css\"\n",
    "\n",
    "app = JupyterDash(__name__)\n",
    "\n",
    "\n",
    "header_bar = html.Div([html.H1(\"HR Dashboard\"),\n",
    "                       html.Img(src=app.get_asset_url(\"thakaa_logo.png\"), width=200)],\n",
    "                      className= \"header-style\")\n",
    "\n",
    "jd_filter_div = html.Div([html.Label(\"Select Job Describtion\", style = {'color': colors['font']}),\n",
    "                                dcc.Input(id=\"jd-input\",value=\"\", placeholder=\"Add Job Describtion\",\n",
    "                                         className= \"input-style\")])\n",
    "\n",
    "statistics_div = html.Div([html.H2(\"Another Div that contains few other elements\",\n",
    "                                   style = {'color': colors['font']}),\n",
    "                           dcc.Graph(id='test-graph',\n",
    "                                     figure={\n",
    "                                         'data': [\n",
    "                                             {'x': [1, 2, 3,4], 'y': [1, 2, 4,5], 'type': 'bar', 'name': 'nClicks'},\n",
    "                                             {'x': [1, 2, 3,4], 'y': [1, 1, 3,7], 'type': 'bar', 'name': 'nBuy'},\n",
    "                                                        ],\n",
    "                                         'layout': {\n",
    "                                             'plot_bgcolor': colors['s-div'],\n",
    "                                             'paper_bgcolor': colors['m-div'],\n",
    "                                             'font': {\n",
    "                                                 'color': colors['font'],\n",
    "                                                 'borderRadius': '20px'\n",
    "                                             }\n",
    "                                         }\n",
    "                                     })], className= \"block-style\")\n",
    "\n",
    "\n",
    "\n",
    "app.layout = html.Div(children=[header_bar,jd_filter_div,statistics_div])"
   ]
  },
  {
   "cell_type": "code",
   "execution_count": 32,
   "metadata": {
    "scrolled": true
   },
   "outputs": [
    {
     "data": {
      "text/html": [
       "\n",
       "        <iframe\n",
       "            width=\"800\"\n",
       "            height=\"650\"\n",
       "            src=\"http://127.0.0.1:8050/\"\n",
       "            frameborder=\"0\"\n",
       "            allowfullscreen\n",
       "        ></iframe>\n",
       "        "
      ],
      "text/plain": [
       "<IPython.lib.display.IFrame at 0x1137a73d0>"
      ]
     },
     "metadata": {},
     "output_type": "display_data"
    }
   ],
   "source": [
    "#Run app on server\n",
    "if __name__ == '__main__': \n",
    "    app.run_server(mode=\"inline\")"
   ]
  },
  {
   "cell_type": "markdown",
   "metadata": {},
   "source": [
    "# Import and use data\n",
    "\n",
    "### Importing data can be done by two ways, mentioned earlier. \n",
    "\n",
    "\n",
    "* setting an API or end point and fetching from an your database\n",
    "\n",
    "    You can imagine the system as two interfaces: \n",
    "\n",
    "    * the system that where users use to apply or add thier CV and data from there such as linkedin or bayat. \n",
    "    * the system that helps HR recuritment the most fit for job. \n",
    "\n",
    "    so all you want to do is to make Get/Post request to capture the data comming from the user end point and use it in your application. There are many libraries that can help do requests in python such as **requests** library \n",
    "    \n",
    "* by allowing user to upload the CVs directly to the application\n",
    "\n",
    "### Processing the data\n",
    "\n",
    "* Processing the data at this stage will be simple if you have already implementented your prediction model. if not you will have to create your own function to process the data. \n",
    "\n",
    "* Assuming that the data imported will be in CSV format we will use **pandas** to help us process and use the data in the dashboard. \n",
    "\n",
    "* **Pandas** is a powerful library that is heavily used in python for tablur formated data files, you can think of it as the excel sheet. \n",
    "\n",
    "* you can use other libraries that helps in NLP processing such as **NLTK**, or **gensim**. "
   ]
  },
  {
   "cell_type": "code",
   "execution_count": 34,
   "metadata": {},
   "outputs": [],
   "source": [
    "def process_data(): \n",
    "    #To-Do process data\n",
    "    \n",
    "    pass"
   ]
  },
  {
   "cell_type": "code",
   "execution_count": 35,
   "metadata": {},
   "outputs": [],
   "source": [
    "import pandas\n"
   ]
  },
  {
   "cell_type": "markdown",
   "metadata": {},
   "source": [
    "# Bootstraping with dash\n",
    "\n",
    "Now we will start adding more components to our dashboard\n",
    "once again feel free to just use your own classes or any other external style sheets \n",
    "\n",
    "but why are we using bootstrap anyway, it gives more control over the layout and grid view, which means layout can be responsive and have more look and feel. \n"
   ]
  },
  {
   "cell_type": "code",
   "execution_count": 36,
   "metadata": {
    "scrolled": true
   },
   "outputs": [
    {
     "name": "stdout",
     "output_type": "stream",
     "text": [
      "Requirement already satisfied: dash-bootstrap-components in /usr/local/lib/python3.7/site-packages (0.10.2)\n",
      "Requirement already satisfied: dash>=1.9.0 in /usr/local/lib/python3.7/site-packages (from dash-bootstrap-components) (1.13.3)\n",
      "Requirement already satisfied: dash-html-components==1.0.3 in /usr/local/lib/python3.7/site-packages (from dash>=1.9.0->dash-bootstrap-components) (1.0.3)\n",
      "Requirement already satisfied: dash-renderer==1.5.0 in /usr/local/lib/python3.7/site-packages (from dash>=1.9.0->dash-bootstrap-components) (1.5.0)\n",
      "Requirement already satisfied: plotly in /usr/local/lib/python3.7/site-packages (from dash>=1.9.0->dash-bootstrap-components) (4.8.1)\n",
      "Requirement already satisfied: flask-compress in /usr/local/lib/python3.7/site-packages (from dash>=1.9.0->dash-bootstrap-components) (1.5.0)\n",
      "Requirement already satisfied: dash-core-components==1.10.1 in /usr/local/lib/python3.7/site-packages (from dash>=1.9.0->dash-bootstrap-components) (1.10.1)\n",
      "Requirement already satisfied: Flask>=1.0.2 in /usr/local/lib/python3.7/site-packages (from dash>=1.9.0->dash-bootstrap-components) (1.1.2)\n",
      "Requirement already satisfied: dash-table==4.8.1 in /usr/local/lib/python3.7/site-packages (from dash>=1.9.0->dash-bootstrap-components) (4.8.1)\n",
      "Requirement already satisfied: future in /usr/local/lib/python3.7/site-packages (from dash>=1.9.0->dash-bootstrap-components) (0.18.2)\n",
      "Requirement already satisfied: six in /usr/local/lib/python3.7/site-packages (from plotly->dash>=1.9.0->dash-bootstrap-components) (1.15.0)\n",
      "Requirement already satisfied: retrying>=1.3.3 in /usr/local/lib/python3.7/site-packages (from plotly->dash>=1.9.0->dash-bootstrap-components) (1.3.3)\n",
      "Requirement already satisfied: brotli in /usr/local/lib/python3.7/site-packages (from flask-compress->dash>=1.9.0->dash-bootstrap-components) (1.0.7)\n",
      "Requirement already satisfied: Werkzeug>=0.15 in /usr/local/lib/python3.7/site-packages (from Flask>=1.0.2->dash>=1.9.0->dash-bootstrap-components) (1.0.1)\n",
      "Requirement already satisfied: click>=5.1 in /usr/local/lib/python3.7/site-packages (from Flask>=1.0.2->dash>=1.9.0->dash-bootstrap-components) (7.1.2)\n",
      "Requirement already satisfied: Jinja2>=2.10.1 in /usr/local/lib/python3.7/site-packages (from Flask>=1.0.2->dash>=1.9.0->dash-bootstrap-components) (2.10.1)\n",
      "Requirement already satisfied: itsdangerous>=0.24 in /usr/local/lib/python3.7/site-packages (from Flask>=1.0.2->dash>=1.9.0->dash-bootstrap-components) (1.1.0)\n",
      "Requirement already satisfied: MarkupSafe>=0.23 in /usr/local/lib/python3.7/site-packages (from Jinja2>=2.10.1->Flask>=1.0.2->dash>=1.9.0->dash-bootstrap-components) (1.1.1)\n"
     ]
    }
   ],
   "source": [
    "#to add bootstrap you need to install sepratally \n",
    "!pip3 install dash-bootstrap-components"
   ]
  },
  {
   "cell_type": "code",
   "execution_count": 37,
   "metadata": {},
   "outputs": [],
   "source": [
    "import dash_bootstrap_components as dbc\n",
    "import dash_html_components as html"
   ]
  },
  {
   "cell_type": "code",
   "execution_count": 38,
   "metadata": {},
   "outputs": [],
   "source": [
    "app = JupyterDash(__name__,external_stylesheets=[dbc.themes.BOOTSTRAP])"
   ]
  },
  {
   "cell_type": "code",
   "execution_count": 39,
   "metadata": {},
   "outputs": [],
   "source": [
    "n_application = dbc.Col([\n",
    "   html.Div([\n",
    "        html.H4(\"1090\", className=\"display-5\"),\n",
    "        html.H4(\"n applications\", className=\"display-5\")\n",
    "   ], className = \"m-2 p-3 border border-light rounded bg-secondary text-white\")\n",
    "],xs=\"auto\", sm=\"auto\", md=4, lg=4, xl=4)\n"
   ]
  },
  {
   "cell_type": "code",
   "execution_count": 40,
   "metadata": {},
   "outputs": [],
   "source": [
    "n_applications_statistics = dbc.Row(\n",
    "    dbc.Col(dcc.Graph(id='categories-graph',\n",
    "                                     figure={\n",
    "                                         'data': [\n",
    "                                             {'x': [1, 2, 3,4], 'y': [1, 2, 4,5], 'type': 'bar', 'name': 'nClicks'},\n",
    "                                             {'x': [1, 2, 3,4], 'y': [1, 1, 3,7], 'type': 'bar', 'name': 'nBuy'},\n",
    "                                                        ],\n",
    "                                         'layout': {\n",
    "                                             'title':'Applications Categorization',\n",
    "                                            \n",
    "                                         }\n",
    "                                     }),xs=4, sm=4, md=12, lg=12, xl=12))"
   ]
  },
  {
   "cell_type": "code",
   "execution_count": 41,
   "metadata": {},
   "outputs": [],
   "source": [
    "controls = dbc.Card(\n",
    "    [\n",
    "        html.H2(\"Filters\"),\n",
    "        html.Hr(),\n",
    "        dbc.FormGroup(\n",
    "            [\n",
    "                dbc.Label(\"Gender\"),\n",
    "                dcc.Dropdown(\n",
    "                    id=\"gender\",\n",
    "                    options=[\n",
    "                    ],\n",
    "                    value=\"\",\n",
    "                ),\n",
    "            ]\n",
    "        ),\n",
    "        dbc.FormGroup(\n",
    "            [\n",
    "                dbc.Label(\"Job Describition\"),\n",
    "                dcc.Dropdown(\n",
    "                    id=\"job-desc\",\n",
    "                    options=[\n",
    "                    ],\n",
    "                    value=\"\",\n",
    "                ),\n",
    "            ]\n",
    "        ),\n",
    "        dbc.FormGroup(\n",
    "            [\n",
    "                dbc.Label(\"Seniority-Level\"),\n",
    "                dcc.Dropdown(\n",
    "                    id=\"seniority-desc\",\n",
    "                    options=[\n",
    "                    ],\n",
    "                    value=\"\",\n",
    "                ),\n",
    "            ]\n",
    "        ),\n",
    "    ],\n",
    "    body=True,\n",
    ")"
   ]
  },
  {
   "cell_type": "code",
   "execution_count": 42,
   "metadata": {},
   "outputs": [],
   "source": [
    "statisics_widget = dbc.Jumbotron([\n",
    "    dbc.Container([\n",
    "        dbc.Row(n_application,  justify=\"start\"),\n",
    "        n_applications_statistics])\n",
    "    ]) "
   ]
  },
  {
   "cell_type": "code",
   "execution_count": 43,
   "metadata": {},
   "outputs": [],
   "source": [
    "first_row = dbc.Row([\n",
    "    \n",
    "    dbc.Col(statisics_widget,xs=\"auto\", sm=\"auto\", md=9, lg=9, xl=9)\n",
    "    , dbc.Col(controls,xs=\"auto\", sm=\"auto\", md=3, lg=3, xl=3)], className=\"my-3\")"
   ]
  },
  {
   "cell_type": "code",
   "execution_count": 44,
   "metadata": {},
   "outputs": [],
   "source": [
    "applications_ranking = dbc.Jumbotron(\n",
    "    [\n",
    "        dcc.Graph(id='ranking-graph',\n",
    "                                     figure={\n",
    "                                         'data': [\n",
    "                                             {'x': [1, 2, 3,4], 'y': [1, 2, 4,5], 'type': 'bar', 'name': 'nClicks'},\n",
    "                                             {'x': [1, 2, 3,4], 'y': [1, 1, 3,7], 'type': 'bar', 'name': 'nBuy'},\n",
    "                                                        ],\n",
    "                                         'layout': {\n",
    "                                             'title':'Applications Ranking'\n",
    "                                         }\n",
    "                                     })\n",
    "                                       \n",
    "        ])"
   ]
  },
  {
   "cell_type": "code",
   "execution_count": 59,
   "metadata": {},
   "outputs": [],
   "source": [
    "upload_block =  dbc.Card([\n",
    "     dbc.Button(dcc.Upload(\n",
    "        id='upload-data',\n",
    "        children=html.Div([\n",
    "            'Drag and Drop or Select File'\n",
    "        ]),\n",
    "        #Allow multiple files to be uploaded\n",
    "        multiple=True\n",
    "    ),  color=\"primary\", className=\"mr-1\"),\n",
    "    html.Div(id='output-data-upload'),\n",
    "], body = True)"
   ]
  },
  {
   "cell_type": "code",
   "execution_count": 60,
   "metadata": {},
   "outputs": [],
   "source": [
    "second_row = dbc.Row([ dbc.Col(applications_ranking ,xs=\"auto\", sm=\"auto\", md=9, lg=9, xl=9),\n",
    "                      dbc.Col(upload_block ,xs=\"auto\", sm=\"auto\", md=3, lg=3, xl=3) ])"
   ]
  },
  {
   "cell_type": "code",
   "execution_count": 61,
   "metadata": {},
   "outputs": [],
   "source": [
    "app.layout = dbc.Container([header_bar,html.Hr(),first_row, second_row], fluid=True)"
   ]
  },
  {
   "cell_type": "code",
   "execution_count": 77,
   "metadata": {
    "scrolled": false
   },
   "outputs": [
    {
     "name": "stdout",
     "output_type": "stream",
     "text": [
      "Dash app running on http://127.0.0.1:8050/\n",
      "'utf-32-le' codec can't decode bytes in position 0-3: code point not in range(0x110000)\n"
     ]
    }
   ],
   "source": [
    "#Run app on server\n",
    "if __name__ == '__main__': \n",
    "     app.run_server(mode='external')"
   ]
  },
  {
   "cell_type": "markdown",
   "metadata": {},
   "source": [
    "# Interactivity with Dash magic\n",
    "\n",
    "As you have noticed none of the inputs that we have included actually have functioning, to make them function we have to use the **Callbacks decorator** which represent the magical element in Dash \n",
    "\n",
    "* in python decorators are simply wrappers for functions that are defined below the decorator. \n",
    "* Dash decorators to make the dashboards interactable\n",
    "* The callback simply listen to changes in the input and based on that it will trigger the function defined below that callback.\n",
    "* all you have to do is register your input, output or state in the callback decorator and define how you want to interact with this input. \n"
   ]
  },
  {
   "cell_type": "code",
   "execution_count": 25,
   "metadata": {},
   "outputs": [],
   "source": [
    "from dash.dependencies import Output, Input, State"
   ]
  },
  {
   "cell_type": "code",
   "execution_count": null,
   "metadata": {},
   "outputs": [],
   "source": [
    "#controlers filters \n",
    "#note that you can use multiple inputs and states\n",
    "\n"
   ]
  },
  {
   "cell_type": "code",
   "execution_count": 76,
   "metadata": {},
   "outputs": [],
   "source": [
    "import base64\n",
    "import io\n",
    "\n",
    "def parse_contents(contents, filename, date):\n",
    "    #uploaded docment comes in the format data: content_type, content_string \"base 64 encoded\"\n",
    "    content_type, content_string = contents.split(',')\n",
    "\n",
    "    #any file that is uploaded is base64 encoded\n",
    "    decoded = base64.b64decode(content_string)\n",
    "    document = \"\"\n",
    "    try:\n",
    "        if 'docx' in filename or 'doc' in filename: \n",
    "            #Assuming user will upload a cv\n",
    "            #TO-DO add function that extract the given data using OCR \n",
    "            document = io.StringIO(decoded.decode('ISO-8859-1'))\n",
    "      \n",
    "            \n",
    "    except Exception as e:\n",
    "        print(e)\n",
    "        return html.Div([\n",
    "            'There was an error processing this file.'\n",
    "        ])\n",
    "\n",
    "    \n",
    "    #predict ranking \n",
    "    rank = 10\n",
    "    jd = \"Job describtion\"\n",
    "    return html.Div([\n",
    "        html.H4(\"Uploaded File Successfully\"),\n",
    "        html.Hr(),\n",
    "        html.P(\"Results \\n \"+\n",
    "               \"Ranking this CV: {}\".format(rank) + \n",
    "                \"Job describtion: {}\".format(jd)),\n",
    "        html.P(decoded)\n",
    "    ])"
   ]
  },
  {
   "cell_type": "code",
   "execution_count": 49,
   "metadata": {},
   "outputs": [],
   "source": [
    "#uploading cv block \n",
    "@app.callback(Output('output-data-upload', 'children'),\n",
    "              [Input('upload-data', 'contents')],\n",
    "              [State('upload-data', 'filename'),\n",
    "               State('upload-data', 'last_modified')])\n",
    "def update_output(list_of_contents, list_of_names, list_of_dates):\n",
    "    if list_of_contents is not None:\n",
    "        children = [\n",
    "            parse_contents(c, n, d) for c, n, d in\n",
    "            zip(list_of_contents, list_of_names, list_of_dates)]\n",
    "        return children"
   ]
  },
  {
   "cell_type": "markdown",
   "metadata": {},
   "source": [
    "# Useful NLP plots and other useful graphs"
   ]
  },
  {
   "cell_type": "markdown",
   "metadata": {},
   "source": [
    "## Useful Resouces \n",
    "\n",
    "* https://plotly.com/python/\n",
    "* https://dash.plotly.com/\n",
    "* https://dash-gallery.plotly.host/Portal/\n",
    "* https://dash-bootstrap-components.opensource.faculty.ai/docs/quickstart/\n",
    "* https://getbootstrap.com/docs/4.2/getting-started/introduction/"
   ]
  },
  {
   "cell_type": "code",
   "execution_count": null,
   "metadata": {},
   "outputs": [],
   "source": []
  }
 ],
 "metadata": {
  "kernelspec": {
   "display_name": "Python 3.7.7 64-bit",
   "language": "python",
   "name": "python37764bit6fe8c4a9d5d54719920afbf69485cb40"
  },
  "language_info": {
   "codemirror_mode": {
    "name": "ipython",
    "version": 3
   },
   "file_extension": ".py",
   "mimetype": "text/x-python",
   "name": "python",
   "nbconvert_exporter": "python",
   "pygments_lexer": "ipython3",
   "version": "3.7.7"
  }
 },
 "nbformat": 4,
 "nbformat_minor": 2
}
