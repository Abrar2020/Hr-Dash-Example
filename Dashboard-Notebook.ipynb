{
 "cells": [
  {
   "cell_type": "markdown",
   "metadata": {},
   "source": [
    "# Agenda\n",
    "**A brief guide on how to build your own dashboard with plotly.py and dash**\n",
    "   1. Introduction\n",
    "   2. Installation\n",
    "   3. Plan before you start building the dashboard\n",
    "   4. HTML and CSS basics with dash\n",
    "   5. Interactivity with Dash magic \n",
    "   5. Import and use data\n",
    "   6. Bootstraping with dash & Building Our Dash\n",
    "\n",
    "# Introduction \n",
    "\n",
    "## About Dash and Plotly \n",
    "\n",
    "* Plotly is a powerful open-source visulization tool that was used for both scientest, engineers and anaylist. supporting python, R, javascript develpers.\n",
    "* Before dash was introduced, Plotly users have been requesting more flexibility and more control over graphs and the widgets. \n",
    "* Dash is built on top of Plotly.js, Flask and React.js, this means that you can build an interactive web-page with plotly graphes with simple python scripts. \n",
    "\n",
    "## Assumptions and Expectations\n",
    "\n",
    "### Assumptions: \n",
    "\n",
    "1. Team has at least one member that have expereience with python\n",
    "2. Team has an existing model for the CV screening/recommendation or planning to build one\n",
    "\n",
    "### Expectations: \n",
    "\n",
    "1. Understanding the basics elements of Dash, which are HTML and CSS \n",
    "3. Participant can use information deilvered in this workshop and implement there own sulotion based on the basics given in this workshop.\n",
    "\n",
    "\n",
    "**Note: you can reference this notebook through this github repo** "
   ]
  },
  {
   "cell_type": "markdown",
   "metadata": {},
   "source": [
    "# installation\n",
    "all you need to do is to install dash and plotly dependencies through pip"
   ]
  },
  {
   "cell_type": "code",
   "execution_count": 1,
   "metadata": {
    "scrolled": true
   },
   "outputs": [
    {
     "name": "stdout",
     "output_type": "stream",
     "text": [
      "Requirement already satisfied: dash in /usr/local/lib/python3.7/site-packages (1.13.3)\n",
      "Requirement already satisfied: plotly in /usr/local/lib/python3.7/site-packages (4.8.1)\n",
      "Requirement already satisfied: flask-compress in /usr/local/lib/python3.7/site-packages (from dash) (1.5.0)\n",
      "Requirement already satisfied: dash-html-components==1.0.3 in /usr/local/lib/python3.7/site-packages (from dash) (1.0.3)\n",
      "Requirement already satisfied: Flask>=1.0.2 in /usr/local/lib/python3.7/site-packages (from dash) (1.1.2)\n",
      "Requirement already satisfied: dash-renderer==1.5.0 in /usr/local/lib/python3.7/site-packages (from dash) (1.5.0)\n",
      "Requirement already satisfied: future in /usr/local/lib/python3.7/site-packages (from dash) (0.18.2)\n",
      "Requirement already satisfied: dash-table==4.8.1 in /usr/local/lib/python3.7/site-packages (from dash) (4.8.1)\n",
      "Requirement already satisfied: dash-core-components==1.10.1 in /usr/local/lib/python3.7/site-packages (from dash) (1.10.1)\n",
      "Requirement already satisfied: retrying>=1.3.3 in /usr/local/lib/python3.7/site-packages (from plotly) (1.3.3)\n",
      "Requirement already satisfied: six in /usr/local/lib/python3.7/site-packages (from plotly) (1.15.0)\n",
      "Requirement already satisfied: brotli in /usr/local/lib/python3.7/site-packages (from flask-compress->dash) (1.0.7)\n",
      "Requirement already satisfied: itsdangerous>=0.24 in /usr/local/lib/python3.7/site-packages (from Flask>=1.0.2->dash) (1.1.0)\n",
      "Requirement already satisfied: Jinja2>=2.10.1 in /usr/local/lib/python3.7/site-packages (from Flask>=1.0.2->dash) (2.10.1)\n",
      "Requirement already satisfied: Werkzeug>=0.15 in /usr/local/lib/python3.7/site-packages (from Flask>=1.0.2->dash) (1.0.1)\n",
      "Requirement already satisfied: click>=5.1 in /usr/local/lib/python3.7/site-packages (from Flask>=1.0.2->dash) (7.1.2)\n",
      "Requirement already satisfied: MarkupSafe>=0.23 in /usr/local/lib/python3.7/site-packages (from Jinja2>=2.10.1->Flask>=1.0.2->dash) (1.1.1)\n",
      "Requirement already satisfied: jupyter-dash in /usr/local/lib/python3.7/site-packages (0.2.1.post1)\n",
      "Requirement already satisfied: requests in /usr/local/lib/python3.7/site-packages (from jupyter-dash) (2.23.0)\n",
      "Requirement already satisfied: ipykernel in /usr/local/lib/python3.7/site-packages (from jupyter-dash) (5.1.2)\n",
      "Requirement already satisfied: ansi2html in /usr/local/lib/python3.7/site-packages (from jupyter-dash) (1.5.2)\n",
      "Requirement already satisfied: ipython in /usr/local/lib/python3.7/site-packages (from jupyter-dash) (7.7.0)\n",
      "Requirement already satisfied: retrying in /usr/local/lib/python3.7/site-packages (from jupyter-dash) (1.3.3)\n",
      "Requirement already satisfied: dash in /usr/local/lib/python3.7/site-packages (from jupyter-dash) (1.13.3)\n",
      "Requirement already satisfied: flask in /usr/local/lib/python3.7/site-packages (from jupyter-dash) (1.1.2)\n",
      "Requirement already satisfied: certifi>=2017.4.17 in /usr/local/lib/python3.7/site-packages (from requests->jupyter-dash) (2020.4.5.2)\n",
      "Requirement already satisfied: chardet<4,>=3.0.2 in /usr/local/lib/python3.7/site-packages (from requests->jupyter-dash) (3.0.4)\n",
      "Requirement already satisfied: urllib3!=1.25.0,!=1.25.1,<1.26,>=1.21.1 in /usr/local/lib/python3.7/site-packages (from requests->jupyter-dash) (1.25.9)\n",
      "Requirement already satisfied: idna<3,>=2.5 in /usr/local/lib/python3.7/site-packages (from requests->jupyter-dash) (2.9)\n",
      "Requirement already satisfied: jupyter-client in /usr/local/lib/python3.7/site-packages (from ipykernel->jupyter-dash) (5.3.1)\n",
      "Requirement already satisfied: traitlets>=4.1.0 in /usr/local/lib/python3.7/site-packages (from ipykernel->jupyter-dash) (4.3.2)\n",
      "Requirement already satisfied: tornado>=4.2 in /usr/local/lib/python3.7/site-packages (from ipykernel->jupyter-dash) (6.0.3)\n",
      "Requirement already satisfied: six in /usr/local/lib/python3.7/site-packages (from ansi2html->jupyter-dash) (1.15.0)\n",
      "Requirement already satisfied: setuptools>=18.5 in /usr/local/lib/python3.7/site-packages (from ipython->jupyter-dash) (47.3.1)\n",
      "Requirement already satisfied: pygments in /usr/local/lib/python3.7/site-packages (from ipython->jupyter-dash) (2.4.2)\n",
      "Requirement already satisfied: pexpect; sys_platform != \"win32\" in /usr/local/lib/python3.7/site-packages (from ipython->jupyter-dash) (4.7.0)\n",
      "Requirement already satisfied: jedi>=0.10 in /usr/local/lib/python3.7/site-packages (from ipython->jupyter-dash) (0.15.1)\n",
      "Requirement already satisfied: backcall in /usr/local/lib/python3.7/site-packages (from ipython->jupyter-dash) (0.1.0)\n",
      "Requirement already satisfied: pickleshare in /usr/local/lib/python3.7/site-packages (from ipython->jupyter-dash) (0.7.5)\n",
      "Requirement already satisfied: appnope; sys_platform == \"darwin\" in /usr/local/lib/python3.7/site-packages (from ipython->jupyter-dash) (0.1.0)\n",
      "Requirement already satisfied: decorator in /usr/local/lib/python3.7/site-packages (from ipython->jupyter-dash) (4.4.0)\n",
      "Requirement already satisfied: prompt-toolkit<2.1.0,>=2.0.0 in /usr/local/lib/python3.7/site-packages (from ipython->jupyter-dash) (2.0.9)\n",
      "Requirement already satisfied: dash-core-components==1.10.1 in /usr/local/lib/python3.7/site-packages (from dash->jupyter-dash) (1.10.1)\n",
      "Requirement already satisfied: dash-table==4.8.1 in /usr/local/lib/python3.7/site-packages (from dash->jupyter-dash) (4.8.1)\n",
      "Requirement already satisfied: dash-renderer==1.5.0 in /usr/local/lib/python3.7/site-packages (from dash->jupyter-dash) (1.5.0)\n",
      "Requirement already satisfied: future in /usr/local/lib/python3.7/site-packages (from dash->jupyter-dash) (0.18.2)\n",
      "Requirement already satisfied: dash-html-components==1.0.3 in /usr/local/lib/python3.7/site-packages (from dash->jupyter-dash) (1.0.3)\n",
      "Requirement already satisfied: plotly in /usr/local/lib/python3.7/site-packages (from dash->jupyter-dash) (4.8.1)\n",
      "Requirement already satisfied: flask-compress in /usr/local/lib/python3.7/site-packages (from dash->jupyter-dash) (1.5.0)\n",
      "Requirement already satisfied: Werkzeug>=0.15 in /usr/local/lib/python3.7/site-packages (from flask->jupyter-dash) (1.0.1)\n",
      "Requirement already satisfied: itsdangerous>=0.24 in /usr/local/lib/python3.7/site-packages (from flask->jupyter-dash) (1.1.0)\n",
      "Requirement already satisfied: Jinja2>=2.10.1 in /usr/local/lib/python3.7/site-packages (from flask->jupyter-dash) (2.10.1)\n",
      "Requirement already satisfied: click>=5.1 in /usr/local/lib/python3.7/site-packages (from flask->jupyter-dash) (7.1.2)\n",
      "Requirement already satisfied: pyzmq>=13 in /usr/local/lib/python3.7/site-packages (from jupyter-client->ipykernel->jupyter-dash) (18.1.0)\n",
      "Requirement already satisfied: python-dateutil>=2.1 in /usr/local/lib/python3.7/site-packages (from jupyter-client->ipykernel->jupyter-dash) (2.8.0)\n",
      "Requirement already satisfied: jupyter-core in /usr/local/lib/python3.7/site-packages (from jupyter-client->ipykernel->jupyter-dash) (4.5.0)\n",
      "Requirement already satisfied: ipython-genutils in /usr/local/lib/python3.7/site-packages (from traitlets>=4.1.0->ipykernel->jupyter-dash) (0.2.0)\n",
      "Requirement already satisfied: ptyprocess>=0.5 in /usr/local/lib/python3.7/site-packages (from pexpect; sys_platform != \"win32\"->ipython->jupyter-dash) (0.6.0)\n",
      "Requirement already satisfied: parso>=0.5.0 in /usr/local/lib/python3.7/site-packages (from jedi>=0.10->ipython->jupyter-dash) (0.5.1)\n",
      "Requirement already satisfied: wcwidth in /usr/local/lib/python3.7/site-packages (from prompt-toolkit<2.1.0,>=2.0.0->ipython->jupyter-dash) (0.1.7)\n",
      "Requirement already satisfied: brotli in /usr/local/lib/python3.7/site-packages (from flask-compress->dash->jupyter-dash) (1.0.7)\n",
      "Requirement already satisfied: MarkupSafe>=0.23 in /usr/local/lib/python3.7/site-packages (from Jinja2>=2.10.1->flask->jupyter-dash) (1.1.1)\n"
     ]
    }
   ],
   "source": [
    "#first install all required packages through pip or pip3 \n",
    "!pip3 install dash plotly \n",
    "!pip3 install jupyter-dash"
   ]
  },
  {
   "cell_type": "markdown",
   "metadata": {},
   "source": [
    "# Plan to build your dashboard\n",
    "\n",
    "Before building your dashboard it is a good practice to start thinking and building a skeleton for the dashboard to help you know where you can start and how will build the dashboard. You can use any tool to build the skeleton: sketching with pen and paper, wireframing tools, prototyping tools...etc you can use anything you are comfirtable with.  \n",
    "\n",
    "\n",
    "Generally to build the skeleton you need to think of the following: \n",
    "1. What are the filters that control the graphs \n",
    "    - Time frame filter\n",
    "    - General filters to the dataset such as gender, age...etc\n",
    "    - Fine tunning filters to update or re-train the model. \n",
    "2. What is the data source\n",
    "    - Upload Button \n",
    "    - Direct connection to Database\n",
    "    - End-point \n",
    "    ![rest-api]\n",
    "\n",
    "[rest-api]: ./assets/Rest-API1.png\n",
    "3. What are the graphs to be displayed in the dashboard\n",
    "    - Numbers \n",
    "    - General Statisitcs \n",
    "    - Staticst based on recommendation model or ranking model "
   ]
  },
  {
   "cell_type": "markdown",
   "metadata": {},
   "source": [
    "# Skeleton\n",
    "\n",
    "Here is an example of a skeleton, the sketch was done using **inVision Studio**, we are not going to implement something similar to this dashboard for simplicity in this workshop.\n",
    "![skeleton]\n",
    "\n",
    "[skeleton]: ./assets/Dashboard1.png\n",
    "\n"
   ]
  },
  {
   "cell_type": "markdown",
   "metadata": {},
   "source": [
    "# HTML and CSS basics with dash\n",
    "\n",
    "In web development every webpage has CSS and HTML tags, despite what framework you work with. \n",
    "Dash is mainly based on HTML and CSS.\n",
    "* HTML tags defines the skeleton or the document structure of a webpage\n",
    "* Every HTML tag has a corresponding element in dash library some html tags might not be found in html_components but in core_components these components are usually statuful meaning they are interctive. \n",
    "* CSS gives your webpage the styles.\n",
    "    Since styling can be quite complex every single page in a website should have its CSS styles and for consistency a front-end developer will use classes to unify the design of all these web pages. Since styling from scratch is quite complex and requires time and efforts.\n",
    "* Bootstrap is used to solve CSS problems and makes CSS easy and flexible. \n",
    "  \n",
    "1. examples HTML components - stateless\n",
    "   + Headers - H1:H6\n",
    "   + Paragraph - P \n",
    "   + images - Img\n",
    "   + blocks - Div \n",
    "  \n",
    "3. examples core components - state\n",
    "   + date picker - DatePickerRange\n",
    "   + inputs - Input\n",
    "   + dropdowns - Dropdown\n",
    "   + graphs  - Graph\n",
    "   + uploading files - Upload \n",
    "2. CSS \n",
    "3. Bootstrap"
   ]
  },
  {
   "cell_type": "markdown",
   "metadata": {},
   "source": [
    "## Hot Reloading\n",
    "\n",
    "* in jupyter you can activitate hot reloading by using \n",
    "* on other script editors it should be running by default, you only need to enbale it when running your server, as follows:\n",
    "`app.run_server(dev_tools_hot_reload = True)`\n",
    "\n",
    "**Note**: its recommended to use script editors such as: VSCode, Pycharm or Spider since its much flexible and practical compared to Jupyter which is more oriented towards experiments rather than app development.  "
   ]
  },
  {
   "cell_type": "code",
   "execution_count": 2,
   "metadata": {},
   "outputs": [],
   "source": [
    "# import all required libraries\n",
    "# dash_core_components, dash_html_components, dash_renderer\n",
    "# should be installed with dash if not you should install with pip or pip3\n",
    "from jupyter_dash import JupyterDash\n",
    "import dash\n",
    "import dash_core_components as dcc \n",
    "import dash_html_components as html\n"
   ]
  },
  {
   "cell_type": "code",
   "execution_count": 3,
   "metadata": {},
   "outputs": [],
   "source": [
    "colors = {\n",
    "    'background': '#111111',\n",
    "    'font': '#4F4F4F',\n",
    "    'input': '#C8C8C8', \n",
    "    's-div': '#C8C8C8',\n",
    "    'm-div': '#F2F2F2'\n",
    "    \n",
    "}\n",
    "\n",
    "#init dash app\n",
    "#app = dash.Dash() if you are not experimenting with Jupyter do build your app\n",
    "app = JupyterDash(__name__)"
   ]
  },
  {
   "cell_type": "markdown",
   "metadata": {},
   "source": [
    "### starting example"
   ]
  },
  {
   "cell_type": "code",
   "execution_count": 4,
   "metadata": {},
   "outputs": [],
   "source": [
    "# app.layout \n",
    "# defines the structure or the layout of your dashbaord\n",
    "app.layout = html.Div(children=[html.H1(\"hello world\"), html.H2(\"hello world\")])"
   ]
  },
  {
   "cell_type": "code",
   "execution_count": 5,
   "metadata": {},
   "outputs": [
    {
     "data": {
      "text/html": [
       "\n",
       "        <iframe\n",
       "            width=\"800\"\n",
       "            height=\"650\"\n",
       "            src=\"http://127.0.0.1:8050/\"\n",
       "            frameborder=\"0\"\n",
       "            allowfullscreen\n",
       "        ></iframe>\n",
       "        "
      ],
      "text/plain": [
       "<IPython.lib.display.IFrame at 0x111a1fd50>"
      ]
     },
     "metadata": {},
     "output_type": "display_data"
    }
   ],
   "source": [
    "#Run appc on server\n",
    "if __name__ == '__main__': \n",
    "    app.run_server(mode='inline')"
   ]
  },
  {
   "cell_type": "markdown",
   "metadata": {},
   "source": [
    "### Create a simple dash with only html and inine css "
   ]
  },
  {
   "cell_type": "code",
   "execution_count": 6,
   "metadata": {},
   "outputs": [],
   "source": [
    "header_bar = html.Div([html.H1(\"HR Dashboard\"),\n",
    "                       html.Img(src=\"./assets/thakaa_logo.png\", width=200)])"
   ]
  },
  {
   "cell_type": "code",
   "execution_count": 7,
   "metadata": {},
   "outputs": [],
   "source": [
    "jd_filter_div = html.Div([html.Label(\"Search Job Describtion\", style = {'color': colors['font']}),\n",
    "                          dcc.Input(id=\"jd-input\",type=\"text\",value=\"\", placeholder=\"Search...\")]) "
   ]
  },
  {
   "cell_type": "code",
   "execution_count": 8,
   "metadata": {},
   "outputs": [],
   "source": [
    "# app.layout \n",
    "# defines the structure or the layout of your dashbaord\n",
    "app.layout = html.Div(children=[header_bar,jd_filter_div])"
   ]
  },
  {
   "cell_type": "code",
   "execution_count": 9,
   "metadata": {
    "scrolled": true
   },
   "outputs": [
    {
     "data": {
      "text/html": [
       "\n",
       "        <iframe\n",
       "            width=\"800\"\n",
       "            height=\"650\"\n",
       "            src=\"http://127.0.0.1:8050/\"\n",
       "            frameborder=\"0\"\n",
       "            allowfullscreen\n",
       "        ></iframe>\n",
       "        "
      ],
      "text/plain": [
       "<IPython.lib.display.IFrame at 0x1131001d0>"
      ]
     },
     "metadata": {},
     "output_type": "display_data"
    }
   ],
   "source": [
    "#Run appc on server\n",
    "if __name__ == '__main__': \n",
    "    app.run_server(mode='inline')"
   ]
  },
  {
   "cell_type": "markdown",
   "metadata": {},
   "source": [
    "### Use CSS classes for simplicity and flexibility \n",
    "\n",
    "in this step feel free to use ready template or **external syle sheets** you can simply load the style sheet using the following:\n",
    "\n",
    "``` \n",
    "external_stylesheets = ['https://codepen.io/chriddyp/pen/bWLwgP.css']\n",
    "app = dash.Dash(__name__, external_stylesheets=external_stylesheets)\n",
    "```\n",
    "\n",
    "\n",
    "however you can create your own classes and replace them in assets directory, once your app is complied it will look for those assets and loads them automatically  "
   ]
  },
  {
   "cell_type": "code",
   "execution_count": 10,
   "metadata": {},
   "outputs": [],
   "source": [
    "css_sheet = \"./assets/style.css\"\n",
    "app = JupyterDash(__name__)"
   ]
  },
  {
   "cell_type": "code",
   "execution_count": 11,
   "metadata": {},
   "outputs": [],
   "source": [
    "header_bar = html.Div([html.H1(\"HR Dashboard\"),\n",
    "                       html.Img(src=\"./assets/thakaa_logo.png\", width=200)],\n",
    "                      className= \"header-style\")"
   ]
  },
  {
   "cell_type": "code",
   "execution_count": 12,
   "metadata": {},
   "outputs": [],
   "source": [
    "jd_filter_div = html.Div([html.Label(\"Select Job Describtion\", className= \"input-style\"),\n",
    "                                dcc.Input(id=\"jd-input\",value=\"\", placeholder=\"Search....\",\n",
    "                                         className= \"input-style\"), html.Div(id=\"jd-output\")], className=\"block-style\")"
   ]
  },
  {
   "cell_type": "code",
   "execution_count": 13,
   "metadata": {},
   "outputs": [],
   "source": [
    "statistics_div = html.Div([html.H2(\"Graph 1\",\n",
    "                                   style = {'color': colors['font']}),\n",
    "                           dcc.Graph(id='test-graph',\n",
    "                                     figure = {\n",
    "                                         'data': [\n",
    "                                             {'x': [1, 2, 3,4], 'y': [1, 2, 4,5], 'type': 'line',\n",
    "                                              \"marker\": {\"color\": \"#003096\"}, 'name': 'nClicks'},\n",
    "                                             {'x': [1, 2, 3,4], 'y': [1, 1, 3,7], 'type': 'bar', \n",
    "                                              \"marker\": {\"color\": \"#0060FF\"},\n",
    "                                              'name': 'nBuy'},\n",
    "                                                        ],\n",
    "                                         'layout': {\n",
    "                                             'plot_bgcolor': colors['s-div'],\n",
    "                                             'paper_bgcolor': colors['m-div'],\n",
    "                                             'font': {\n",
    "                                                 'color': colors['font']\n",
    "                                             }\n",
    "                                         }}\n",
    "                                     \n",
    "\n",
    "                                     )], className= \"block-style\")\n"
   ]
  },
  {
   "cell_type": "code",
   "execution_count": 14,
   "metadata": {},
   "outputs": [],
   "source": [
    "import plotly.graph_objs as go\n",
    "figure = go.Figure(data=go.Scatter(x=[1,2,3], y=[2,3,4]))"
   ]
  },
  {
   "cell_type": "code",
   "execution_count": 15,
   "metadata": {},
   "outputs": [],
   "source": [
    "app.layout = html.Div(children=[header_bar,jd_filter_div,statistics_div]) "
   ]
  },
  {
   "cell_type": "code",
   "execution_count": 16,
   "metadata": {
    "scrolled": true
   },
   "outputs": [
    {
     "data": {
      "text/html": [
       "\n",
       "        <iframe\n",
       "            width=\"800\"\n",
       "            height=\"650\"\n",
       "            src=\"http://127.0.0.1:8050/\"\n",
       "            frameborder=\"0\"\n",
       "            allowfullscreen\n",
       "        ></iframe>\n",
       "        "
      ],
      "text/plain": [
       "<IPython.lib.display.IFrame at 0x113315b10>"
      ]
     },
     "metadata": {},
     "output_type": "display_data"
    }
   ],
   "source": [
    "#Run app on server\n",
    "if __name__ == '__main__': \n",
    "    app.run_server(mode=\"inline\")"
   ]
  },
  {
   "cell_type": "markdown",
   "metadata": {},
   "source": [
    "# Interactivity with Dash magic\n",
    "\n",
    "As you have noticed none of the inputs that we have included actually have functioning, to make them function we have to use the **Callbacks decorator** which represent the magical element in Dash \n",
    "\n",
    "* in python decorators are simply wrappers for functions that are defined below the decorator. \n",
    "* Dash decorators to make the dashboards interactable\n",
    "* The callback simply listen to changes in the input and based on that it will trigger the function defined below that callback.\n",
    "* Callback decorator elements: \n",
    "    * Input: input from user\n",
    "    * Output: changes based on user input\n",
    "    * State: similar to inputs but only triggers when a specified input triggers it refelect a value/state of an element\n",
    "        - ex. form inputs, once the user click submit the each state represent an input value\n",
    "* all you have to do is register your input, output or state in the callback decorator and define how you want to interact with this input. "
   ]
  },
  {
   "cell_type": "code",
   "execution_count": 17,
   "metadata": {},
   "outputs": [],
   "source": [
    "from dash.dependencies import Output, Input"
   ]
  },
  {
   "cell_type": "code",
   "execution_count": 18,
   "metadata": {},
   "outputs": [],
   "source": [
    "@app.callback( Output(component_id =\"jd-output\" , component_property = \"children\"),\n",
    "                [Input(component_id = \"jd-input\", component_property = \"value\")])\n",
    "\n",
    "def update_jd_output(txt_input): \n",
    "    return \"Output changed: {}\".format(txt_input)"
   ]
  },
  {
   "cell_type": "code",
   "execution_count": 19,
   "metadata": {},
   "outputs": [
    {
     "data": {
      "text/html": [
       "\n",
       "        <iframe\n",
       "            width=\"800\"\n",
       "            height=\"650\"\n",
       "            src=\"http://127.0.0.1:8050/\"\n",
       "            frameborder=\"0\"\n",
       "            allowfullscreen\n",
       "        ></iframe>\n",
       "        "
      ],
      "text/plain": [
       "<IPython.lib.display.IFrame at 0x113373450>"
      ]
     },
     "metadata": {},
     "output_type": "display_data"
    }
   ],
   "source": [
    "#Run app on server\n",
    "if __name__ == '__main__': \n",
    "    app.run_server(mode=\"inline\")"
   ]
  },
  {
   "cell_type": "markdown",
   "metadata": {},
   "source": [
    "# Import and use data\n",
    "\n",
    "### Importing data can be done using several ways\n",
    "\n",
    "* have direct connection to db and querying the database, you can use **mysqlclient**, or **psycopg2** for postgressql\n",
    "* setting an API or end point to fetch data from an your database\n",
    "\n",
    "    You can imagine the system as two interfaces: \n",
    "\n",
    "    * the system that where users use to apply or add thier CV and data from there such as linkedin or bayat. \n",
    "    * the system that helps HR recuritment the most fit for job. \n",
    "\n",
    "    so all you want to do is to make Get/Post request to capture the data comming from the user end point and use it in your application. There are many libraries that can help do requests in python such as **requests** library \n",
    "    \n",
    "* by allowing user to upload the CVs directly to the application\n",
    "\n",
    "### Processing the data\n",
    "\n",
    "* Processing the data at this stage will be simple if you have already implementented your prediction model. if not you will have to create your own function to process the data. \n",
    "\n",
    "* Assuming that the data imported will be in CSV format we will use **pandas** to help us process and use the data in the dashboard. \n",
    "\n",
    "* **Pandas** is a powerful library that is heavily used in python for tablur formated data files, you can think of it as the excel sheet. \n",
    "\n",
    "* you can use other libraries that helps in NLP processing such as **NLTK**, **gensim** and **spaCy**."
   ]
  },
  {
   "cell_type": "code",
   "execution_count": 20,
   "metadata": {
    "scrolled": false
   },
   "outputs": [
    {
     "data": {
      "text/html": [
       "<div>\n",
       "<style scoped>\n",
       "    .dataframe tbody tr th:only-of-type {\n",
       "        vertical-align: middle;\n",
       "    }\n",
       "\n",
       "    .dataframe tbody tr th {\n",
       "        vertical-align: top;\n",
       "    }\n",
       "\n",
       "    .dataframe thead th {\n",
       "        text-align: right;\n",
       "    }\n",
       "</style>\n",
       "<table border=\"1\" class=\"dataframe\">\n",
       "  <thead>\n",
       "    <tr style=\"text-align: right;\">\n",
       "      <th></th>\n",
       "      <th>Unnamed: 0</th>\n",
       "      <th>Document_No</th>\n",
       "      <th>Document_ID</th>\n",
       "      <th>Dominant_Topic</th>\n",
       "      <th>Highest_Score_Topic</th>\n",
       "      <th>Topic_Perc_Contrib</th>\n",
       "      <th>Keywords</th>\n",
       "      <th>Text</th>\n",
       "    </tr>\n",
       "  </thead>\n",
       "  <tbody>\n",
       "    <tr>\n",
       "      <th>0</th>\n",
       "      <td>0</td>\n",
       "      <td>0</td>\n",
       "      <td>INsJ77pas5StclLP6ruSWC4IGQpDS0ix</td>\n",
       "      <td>20.0</td>\n",
       "      <td>union</td>\n",
       "      <td>0.4424</td>\n",
       "      <td>party, government, political, economic, libera...</td>\n",
       "      <td>['anarchism', 'originated', 'as', 'a', 'term',...</td>\n",
       "    </tr>\n",
       "    <tr>\n",
       "      <th>1</th>\n",
       "      <td>1</td>\n",
       "      <td>1</td>\n",
       "      <td>sXr6VPR1ySrJeF6h6qyVmlMl9TTsbu2j</td>\n",
       "      <td>27.0</td>\n",
       "      <td>treatment</td>\n",
       "      <td>0.2990</td>\n",
       "      <td>drug, medical, patient, treatment, effect, bra...</td>\n",
       "      <td>['reciprocity', 'qualitative', 'impairments', ...</td>\n",
       "    </tr>\n",
       "    <tr>\n",
       "      <th>2</th>\n",
       "      <td>2</td>\n",
       "      <td>2</td>\n",
       "      <td>ZpvrAZTmAh6ZPmTRlBqKWRcNcLVejyan</td>\n",
       "      <td>28.0</td>\n",
       "      <td>year</td>\n",
       "      <td>0.5952</td>\n",
       "      <td>war, state, president, year, american, united,...</td>\n",
       "      <td>['with', 'the', 'aegis', 'of', 'zeus', 'when',...</td>\n",
       "    </tr>\n",
       "    <tr>\n",
       "      <th>3</th>\n",
       "      <td>3</td>\n",
       "      <td>3</td>\n",
       "      <td>VGlvjd4DFMGdyU9Ilq16Kx0KeATqTNk2</td>\n",
       "      <td>6.0</td>\n",
       "      <td>world</td>\n",
       "      <td>0.4410</td>\n",
       "      <td>work, science, life, theory, world, human, boo...</td>\n",
       "      <td>['despite', 'his', 'injury', 'booth', 'managed...</td>\n",
       "    </tr>\n",
       "    <tr>\n",
       "      <th>4</th>\n",
       "      <td>4</td>\n",
       "      <td>4</td>\n",
       "      <td>YLtwR3UlcCGWrB2UZPs9oFuH5LzrXrVm</td>\n",
       "      <td>6.0</td>\n",
       "      <td>world</td>\n",
       "      <td>0.5492</td>\n",
       "      <td>work, science, life, theory, world, human, boo...</td>\n",
       "      <td>['present', 'best', 'sound', 'editing', 'one',...</td>\n",
       "    </tr>\n",
       "  </tbody>\n",
       "</table>\n",
       "</div>"
      ],
      "text/plain": [
       "   Unnamed: 0  Document_No                       Document_ID  Dominant_Topic  \\\n",
       "0           0            0  INsJ77pas5StclLP6ruSWC4IGQpDS0ix            20.0   \n",
       "1           1            1  sXr6VPR1ySrJeF6h6qyVmlMl9TTsbu2j            27.0   \n",
       "2           2            2  ZpvrAZTmAh6ZPmTRlBqKWRcNcLVejyan            28.0   \n",
       "3           3            3  VGlvjd4DFMGdyU9Ilq16Kx0KeATqTNk2             6.0   \n",
       "4           4            4  YLtwR3UlcCGWrB2UZPs9oFuH5LzrXrVm             6.0   \n",
       "\n",
       "  Highest_Score_Topic  Topic_Perc_Contrib  \\\n",
       "0               union              0.4424   \n",
       "1           treatment              0.2990   \n",
       "2                year              0.5952   \n",
       "3               world              0.4410   \n",
       "4               world              0.5492   \n",
       "\n",
       "                                            Keywords  \\\n",
       "0  party, government, political, economic, libera...   \n",
       "1  drug, medical, patient, treatment, effect, bra...   \n",
       "2  war, state, president, year, american, united,...   \n",
       "3  work, science, life, theory, world, human, boo...   \n",
       "4  work, science, life, theory, world, human, boo...   \n",
       "\n",
       "                                                Text  \n",
       "0  ['anarchism', 'originated', 'as', 'a', 'term',...  \n",
       "1  ['reciprocity', 'qualitative', 'impairments', ...  \n",
       "2  ['with', 'the', 'aegis', 'of', 'zeus', 'when',...  \n",
       "3  ['despite', 'his', 'injury', 'booth', 'managed...  \n",
       "4  ['present', 'best', 'sound', 'editing', 'one',...  "
      ]
     },
     "execution_count": 20,
     "metadata": {},
     "output_type": "execute_result"
    }
   ],
   "source": [
    "import pandas as pd \n",
    "\n",
    "dominant_topics_df = pd.read_csv(\"./model/dominant_topics.csv\")\n",
    "dominant_topics_df.head(5)"
   ]
  },
  {
   "cell_type": "markdown",
   "metadata": {},
   "source": [
    "# Bootstraping with dash\n",
    "\n",
    "Now that we have covered all the basics for building the dashboard we will start adding more components to our dashboard and use bootstrap to style it\n",
    "once again feel free to just use your own classes or any other external style sheets \n",
    "\n",
    "but why are we using bootstrap anyway, it gives more control over the layout and grid view, which means layout can be responsive and have more look and feel. \n",
    "\n",
    "### Styling The Dash & Using the imported data\n"
   ]
  },
  {
   "cell_type": "code",
   "execution_count": 21,
   "metadata": {
    "scrolled": true
   },
   "outputs": [
    {
     "name": "stdout",
     "output_type": "stream",
     "text": [
      "Requirement already satisfied: dash-bootstrap-components in /usr/local/lib/python3.7/site-packages (0.10.2)\n",
      "Requirement already satisfied: dash>=1.9.0 in /usr/local/lib/python3.7/site-packages (from dash-bootstrap-components) (1.13.3)\n",
      "Requirement already satisfied: future in /usr/local/lib/python3.7/site-packages (from dash>=1.9.0->dash-bootstrap-components) (0.18.2)\n",
      "Requirement already satisfied: dash-renderer==1.5.0 in /usr/local/lib/python3.7/site-packages (from dash>=1.9.0->dash-bootstrap-components) (1.5.0)\n",
      "Requirement already satisfied: dash-table==4.8.1 in /usr/local/lib/python3.7/site-packages (from dash>=1.9.0->dash-bootstrap-components) (4.8.1)\n",
      "Requirement already satisfied: dash-html-components==1.0.3 in /usr/local/lib/python3.7/site-packages (from dash>=1.9.0->dash-bootstrap-components) (1.0.3)\n",
      "Requirement already satisfied: flask-compress in /usr/local/lib/python3.7/site-packages (from dash>=1.9.0->dash-bootstrap-components) (1.5.0)\n",
      "Requirement already satisfied: plotly in /usr/local/lib/python3.7/site-packages (from dash>=1.9.0->dash-bootstrap-components) (4.8.1)\n",
      "Requirement already satisfied: Flask>=1.0.2 in /usr/local/lib/python3.7/site-packages (from dash>=1.9.0->dash-bootstrap-components) (1.1.2)\n",
      "Requirement already satisfied: dash-core-components==1.10.1 in /usr/local/lib/python3.7/site-packages (from dash>=1.9.0->dash-bootstrap-components) (1.10.1)\n",
      "Requirement already satisfied: brotli in /usr/local/lib/python3.7/site-packages (from flask-compress->dash>=1.9.0->dash-bootstrap-components) (1.0.7)\n",
      "Requirement already satisfied: six in /usr/local/lib/python3.7/site-packages (from plotly->dash>=1.9.0->dash-bootstrap-components) (1.15.0)\n",
      "Requirement already satisfied: retrying>=1.3.3 in /usr/local/lib/python3.7/site-packages (from plotly->dash>=1.9.0->dash-bootstrap-components) (1.3.3)\n",
      "Requirement already satisfied: Jinja2>=2.10.1 in /usr/local/lib/python3.7/site-packages (from Flask>=1.0.2->dash>=1.9.0->dash-bootstrap-components) (2.10.1)\n",
      "Requirement already satisfied: itsdangerous>=0.24 in /usr/local/lib/python3.7/site-packages (from Flask>=1.0.2->dash>=1.9.0->dash-bootstrap-components) (1.1.0)\n",
      "Requirement already satisfied: Werkzeug>=0.15 in /usr/local/lib/python3.7/site-packages (from Flask>=1.0.2->dash>=1.9.0->dash-bootstrap-components) (1.0.1)\n",
      "Requirement already satisfied: click>=5.1 in /usr/local/lib/python3.7/site-packages (from Flask>=1.0.2->dash>=1.9.0->dash-bootstrap-components) (7.1.2)\n",
      "Requirement already satisfied: MarkupSafe>=0.23 in /usr/local/lib/python3.7/site-packages (from Jinja2>=2.10.1->Flask>=1.0.2->dash>=1.9.0->dash-bootstrap-components) (1.1.1)\n"
     ]
    }
   ],
   "source": [
    "#to add bootstrap you need to install sepratally \n",
    "!pip3 install dash-bootstrap-components"
   ]
  },
  {
   "cell_type": "markdown",
   "metadata": {},
   "source": [
    "\n",
    "![skeleton]\n",
    "\n",
    "[skeleton]: ./assets/Dashboard1.png\n",
    "\n"
   ]
  },
  {
   "cell_type": "code",
   "execution_count": 22,
   "metadata": {},
   "outputs": [],
   "source": [
    "import dash_bootstrap_components as dbc"
   ]
  },
  {
   "cell_type": "code",
   "execution_count": 23,
   "metadata": {},
   "outputs": [],
   "source": [
    "app = JupyterDash(__name__,external_stylesheets=[dbc.themes.BOOTSTRAP])"
   ]
  },
  {
   "cell_type": "code",
   "execution_count": 24,
   "metadata": {},
   "outputs": [],
   "source": [
    "n_documents = dbc.Col([\n",
    "   html.Div([\n",
    "        html.H4(len(dominant_topics_df)),\n",
    "        html.H5(\"n documents\")\n",
    "   ], className = \"m-2 p-3 border border-light rounded bg-secondary text-white\")\n",
    "], md=5)\n"
   ]
  },
  {
   "cell_type": "code",
   "execution_count": 25,
   "metadata": {
    "scrolled": true
   },
   "outputs": [
    {
     "data": {
      "text/html": [
       "<div>\n",
       "<style scoped>\n",
       "    .dataframe tbody tr th:only-of-type {\n",
       "        vertical-align: middle;\n",
       "    }\n",
       "\n",
       "    .dataframe tbody tr th {\n",
       "        vertical-align: top;\n",
       "    }\n",
       "\n",
       "    .dataframe thead th {\n",
       "        text-align: right;\n",
       "    }\n",
       "</style>\n",
       "<table border=\"1\" class=\"dataframe\">\n",
       "  <thead>\n",
       "    <tr style=\"text-align: right;\">\n",
       "      <th></th>\n",
       "      <th>Highest_Score_Topic</th>\n",
       "      <th>count</th>\n",
       "    </tr>\n",
       "  </thead>\n",
       "  <tbody>\n",
       "    <tr>\n",
       "      <th>0</th>\n",
       "      <td>year</td>\n",
       "      <td>310</td>\n",
       "    </tr>\n",
       "    <tr>\n",
       "      <th>1</th>\n",
       "      <td>world</td>\n",
       "      <td>180</td>\n",
       "    </tr>\n",
       "    <tr>\n",
       "      <th>2</th>\n",
       "      <td>time</td>\n",
       "      <td>156</td>\n",
       "    </tr>\n",
       "    <tr>\n",
       "      <th>3</th>\n",
       "      <td>water</td>\n",
       "      <td>91</td>\n",
       "    </tr>\n",
       "    <tr>\n",
       "      <th>4</th>\n",
       "      <td>writer</td>\n",
       "      <td>77</td>\n",
       "    </tr>\n",
       "    <tr>\n",
       "      <th>5</th>\n",
       "      <td>war</td>\n",
       "      <td>74</td>\n",
       "    </tr>\n",
       "    <tr>\n",
       "      <th>6</th>\n",
       "      <td>window</td>\n",
       "      <td>68</td>\n",
       "    </tr>\n",
       "    <tr>\n",
       "      <th>7</th>\n",
       "      <td>university</td>\n",
       "      <td>66</td>\n",
       "    </tr>\n",
       "    <tr>\n",
       "      <th>8</th>\n",
       "      <td>sound</td>\n",
       "      <td>62</td>\n",
       "    </tr>\n",
       "    <tr>\n",
       "      <th>9</th>\n",
       "      <td>saint</td>\n",
       "      <td>56</td>\n",
       "    </tr>\n",
       "  </tbody>\n",
       "</table>\n",
       "</div>"
      ],
      "text/plain": [
       "  Highest_Score_Topic  count\n",
       "0                year    310\n",
       "1               world    180\n",
       "2                time    156\n",
       "3               water     91\n",
       "4              writer     77\n",
       "5                 war     74\n",
       "6              window     68\n",
       "7          university     66\n",
       "8               sound     62\n",
       "9               saint     56"
      ]
     },
     "execution_count": 25,
     "metadata": {},
     "output_type": "execute_result"
    }
   ],
   "source": [
    "value_counts = dominant_topics_df[\"Highest_Score_Topic\"].value_counts()\n",
    "df_topics_count = pd.DataFrame({\"Highest_Score_Topic\": value_counts.index, \"count\" : value_counts.values})\n",
    "df_topics_count.head(10)"
   ]
  },
  {
   "cell_type": "code",
   "execution_count": 26,
   "metadata": {},
   "outputs": [],
   "source": [
    "statistics = dbc.Row(\n",
    "    dbc.Col(dcc.Graph(id='categories-graph',\n",
    "                                     figure={\n",
    "                                         'data': [\n",
    "                                             {'x':df_topics_count[\"Highest_Score_Topic\"], \n",
    "                                              'y': df_topics_count[\"count\"], 'type': 'bar'},\n",
    "                                                        ],\n",
    "                                         'layout': {\n",
    "                                             'title':'Topics Categorization',\n",
    "                                            \n",
    "                                         }\n",
    "                                     }), md=12))"
   ]
  },
  {
   "cell_type": "code",
   "execution_count": 27,
   "metadata": {},
   "outputs": [],
   "source": [
    "controls = dbc.Card(\n",
    "    [\n",
    "        html.H2(\"Inputs\"),\n",
    "        html.Hr(),\n",
    "        dbc.Label(\"Select a topic\"),\n",
    "                dcc.Dropdown(\n",
    "                    id=\"topics-selector\",\n",
    "                    options=[{\"label\":topic, \"value\": topic} for topic in df_topics_count.Highest_Score_Topic ]\n",
    "                    ,\n",
    "                    value=\"\",\n",
    "                    multi = True,\n",
    "                    className=\"my-2\"\n",
    "                ),\n",
    "        dcc.Upload(children= [dbc.Button('Upload File', color=\"primary\", className=\"mr-1\")],\n",
    "        id='upload-data',\n",
    "        #Allow multiple files to be uploaded\n",
    "        multiple=False\n",
    "        ),\n",
    "        html.Div(id='output-data-upload', children=\"Output:-\", className=\"my-2\")\n",
    "    ],       \n",
    "    body=True,\n",
    "        \n",
    ")"
   ]
  },
  {
   "cell_type": "code",
   "execution_count": 28,
   "metadata": {},
   "outputs": [],
   "source": [
    "statisics_widget = dbc.Jumbotron([\n",
    "        dbc.Row(n_documents),\n",
    "        statistics\n",
    "    ]) "
   ]
  },
  {
   "cell_type": "code",
   "execution_count": 29,
   "metadata": {},
   "outputs": [],
   "source": [
    "row = dbc.Row([\n",
    "  \n",
    "    dbc.Col(statisics_widget, md=8)\n",
    "    ,dbc.Col(controls, md=4)], className=\"my-3\")"
   ]
  },
  {
   "cell_type": "code",
   "execution_count": 30,
   "metadata": {},
   "outputs": [],
   "source": [
    "#fluid=true ensures the containers take 100% screen size\n",
    "app.layout = dbc.Container([header_bar,html.Hr(),row], fluid=True) "
   ]
  },
  {
   "cell_type": "code",
   "execution_count": 31,
   "metadata": {
    "scrolled": true
   },
   "outputs": [
    {
     "name": "stdout",
     "output_type": "stream",
     "text": [
      "Dash app running on http://127.0.0.1:8050/\n"
     ]
    }
   ],
   "source": [
    "#Run app on server\n",
    "if __name__ == '__main__': \n",
    "     app.run_server(mode='external')"
   ]
  },
  {
   "cell_type": "markdown",
   "metadata": {},
   "source": [
    "### Adding the interactive elements to update the dashboard"
   ]
  },
  {
   "cell_type": "code",
   "execution_count": 32,
   "metadata": {},
   "outputs": [],
   "source": [
    "#controlers filters \n",
    "#note that you can use multiple inputs and states\n",
    "@app.callback(Output(\"categories-graph\",\"figure\"),\n",
    "              [Input(\"topics-selector\", \"value\")])\n",
    "\n",
    "def update_graph(selected_topics):\n",
    "    \n",
    "    if len(selected_topics) == 0: \n",
    "        filtered_result = df_topics_count\n",
    "    else: \n",
    "        filtered_result = df_topics_count[df_topics_count[\"Highest_Score_Topic\"].isin(selected_topics)]\n",
    "    data = {'x': filtered_result[\"Highest_Score_Topic\"], \n",
    "            'y': filtered_result[\"count\"], 'type': 'bar'}\n",
    "    return {'data': [data],'layout': {'title':'Topics Categorization' }}   "
   ]
  },
  {
   "cell_type": "code",
   "execution_count": 33,
   "metadata": {},
   "outputs": [],
   "source": [
    "import base64\n",
    "import io\n",
    "import docx2txt\n",
    "\n",
    "def parse_contents(contents, filename, date):\n",
    "    #uploaded docment comes in the format data: content_type, content_string \"base 64 encoded\"\n",
    "    content_type, content_string = contents.split(',')\n",
    "\n",
    "    #any file that is uploaded is base64 encoded\n",
    "    decoded = base64.b64decode(content_string)\n",
    "    document = \"\"\n",
    "    try:\n",
    "        if '.doc' in filename or '.docx' in filename: \n",
    "            #Assuming user will upload a cv\n",
    "            #TO-DO: \n",
    "            #1. add function that extract the given data using OCR \n",
    "            #2. accepts .doc/.doxc and pdf\n",
    "            \n",
    "            #io.BytesIO: accepts bytes like object\n",
    "            #returns BytesIO stream\n",
    "            document = docx2txt.process(io.BytesIO(decoded)) \n",
    "          \n",
    "        else:\n",
    "            return html.Div([\n",
    "            'Please upload .doc/.docx extension file'\n",
    "            ])\n",
    "            \n",
    "    except Exception as e:\n",
    "        print(e)\n",
    "        return html.Div([\n",
    "            'There was an error processing this file.'\n",
    "        ])\n",
    "\n",
    "    \n",
    "    #predict ranking & category\n",
    "    #TO-DO: \n",
    "    # 1. add a function that accept the new uploaded document and preprocess it\n",
    "    # use the model to categorize it and rank it and returns the category and the rank\n",
    "    category = \"year\"\n",
    "    rank = 10\n",
    "    return html.Div([\n",
    "        html.H4(\"Uploaded File Successfull - {}\".format(filename)),\n",
    "        html.Hr(),\n",
    "        html.P(\"Results \\n \"+\n",
    "               \"Category: {}\\n\".format(category)+\n",
    "               \"Ranking: {}\\n\".format(rank)),\n",
    "        html.P(\"text :- {}\".format(document))\n",
    "    ])"
   ]
  },
  {
   "cell_type": "code",
   "execution_count": 34,
   "metadata": {},
   "outputs": [],
   "source": [
    "from dash.dependencies import State"
   ]
  },
  {
   "cell_type": "code",
   "execution_count": 35,
   "metadata": {},
   "outputs": [],
   "source": [
    "#uploading cv block \n",
    "@app.callback(Output('output-data-upload', 'children'),\n",
    "              [Input('upload-data', 'contents')],\n",
    "              [State('upload-data', 'filename'),\n",
    "               State('upload-data', 'last_modified')])\n",
    "\n",
    "def update_output(content, filename, date):\n",
    "    if content is not None:\n",
    "        children = parse_contents(content, filename, date)\n",
    "        return children"
   ]
  },
  {
   "cell_type": "code",
   "execution_count": 36,
   "metadata": {
    "scrolled": false
   },
   "outputs": [
    {
     "name": "stdout",
     "output_type": "stream",
     "text": [
      "Dash app running on http://127.0.0.1:8050/\n"
     ]
    }
   ],
   "source": [
    "#Run app on server\n",
    "if __name__ == '__main__': \n",
    "     app.run_server(mode='external')"
   ]
  },
  {
   "cell_type": "markdown",
   "metadata": {},
   "source": [
    "## Useful Resouces \n",
    "\n",
    "* https://dash.plotly.com/\n",
    "* https://www.w3schools.com/\n",
    "* https://plotly.com/python/\n",
    "* https://dash-gallery.plotly.host/Portal/\n",
    "* https://dash-bootstrap-components.opensource.faculty.ai/docs/quickstart/\n",
    "* https://getbootstrap.com/docs/4.2/getting-started/introduction/\n"
   ]
  },
  {
   "cell_type": "markdown",
   "metadata": {},
   "source": [
    "# Join Our Slack Community \n",
    "\n",
    "* We are gonna share this notebook as github repo through this slack community channel.\n",
    "\n",
    "<img src=\"./assets/qr_code.png\" width=\"200\">"
   ]
  },
  {
   "cell_type": "code",
   "execution_count": null,
   "metadata": {},
   "outputs": [],
   "source": [
    "\n"
   ]
  },
  {
   "cell_type": "code",
   "execution_count": null,
   "metadata": {},
   "outputs": [],
   "source": []
  },
  {
   "cell_type": "code",
   "execution_count": null,
   "metadata": {},
   "outputs": [],
   "source": []
  },
  {
   "cell_type": "code",
   "execution_count": null,
   "metadata": {},
   "outputs": [],
   "source": []
  },
  {
   "cell_type": "code",
   "execution_count": null,
   "metadata": {},
   "outputs": [],
   "source": []
  },
  {
   "cell_type": "code",
   "execution_count": null,
   "metadata": {},
   "outputs": [],
   "source": []
  },
  {
   "cell_type": "code",
   "execution_count": null,
   "metadata": {},
   "outputs": [],
   "source": []
  }
 ],
 "metadata": {
  "kernelspec": {
   "display_name": "Python 3.7.7 64-bit",
   "language": "python",
   "name": "python37764bit6fe8c4a9d5d54719920afbf69485cb40"
  },
  "language_info": {
   "codemirror_mode": {
    "name": "ipython",
    "version": 3
   },
   "file_extension": ".py",
   "mimetype": "text/x-python",
   "name": "python",
   "nbconvert_exporter": "python",
   "pygments_lexer": "ipython3",
   "version": "3.7.7"
  }
 },
 "nbformat": 4,
 "nbformat_minor": 2
}
